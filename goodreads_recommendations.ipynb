{
 "cells": [
  {
   "cell_type": "markdown",
   "metadata": {},
   "source": [
    "## Data Loading"
   ]
  },
  {
   "cell_type": "code",
   "execution_count": null,
   "metadata": {},
   "outputs": [],
   "source": [
    "import pandas as pd\n",
    "import numpy as np\n",
    "import sklearn\n",
    "from scipy.sparse import csr_matrix\n",
    "from sklearn.decomposition import TruncatedSVD\n",
    "\n",
    "books = pd.read_csv(\"data/books.csv\")\n",
    "books.head()"
   ]
  },
  {
   "cell_type": "code",
   "execution_count": null,
   "metadata": {},
   "outputs": [],
   "source": [
    "# Only keep necessary columns for Books DataFrame\n",
    "cols = ['book_id', 'isbn', 'authors', 'title', 'language_code', 'average_rating', 'ratings_count']\n",
    "books = books[cols]\n",
    "\n",
    "# Only keep books that are in English\n",
    "books = books.loc[books['language_code'].isin(['eng', 'en-US', 'en-CA', 'en-GB'])]\n",
    "books.head()"
   ]
  },
  {
   "cell_type": "code",
   "execution_count": null,
   "metadata": {},
   "outputs": [],
   "source": [
    "ratings = pd.read_csv(\"data/ratings.csv\")\n",
    "ratings.head()"
   ]
  },
  {
   "cell_type": "markdown",
   "metadata": {},
   "source": [
    "## PART 1: k Nearest Neighbors (kNN)"
   ]
  },
  {
   "cell_type": "markdown",
   "metadata": {},
   "source": [
    "#### Idea: Represent ratings as a matrix M\n",
    "* Each row is a book, each column is a user \n",
    "* M[i][j] = k -- means user j rated book i with k stars"
   ]
  },
  {
   "cell_type": "markdown",
   "metadata": {},
   "source": [
    "#### First, combine books and ratings based on book_id"
   ]
  },
  {
   "cell_type": "code",
   "execution_count": null,
   "metadata": {},
   "outputs": [],
   "source": [
    "combine_book_rating = pd.merge(ratings, books, on='book_id')\n",
    "columns = ['user_id', 'book_id', 'rating', 'title']\n",
    "combine_book_rating = combine_book_rating[columns]\n",
    "print(combine_book_rating.shape)\n",
    "combine_book_rating.head()"
   ]
  },
  {
   "cell_type": "markdown",
   "metadata": {},
   "source": [
    "#### Get total number of ratings per book"
   ]
  },
  {
   "cell_type": "code",
   "execution_count": null,
   "metadata": {},
   "outputs": [],
   "source": [
    "ratings_count = combine_book_rating.groupby(by=['title'])['rating'].count().reset_index()\n",
    "ratings_count = ratings_count.rename(columns = {'rating':'ratings_count'})\n",
    "ratings_count.head()"
   ]
  },
  {
   "cell_type": "code",
   "execution_count": null,
   "metadata": {},
   "outputs": [],
   "source": [
    "rating_with_count = combine_book_rating.merge(ratings_count, left_on='title', right_on='title', how='left')\n",
    "rating_with_count.head()"
   ]
  },
  {
   "cell_type": "markdown",
   "metadata": {},
   "source": [
    "#### Remove rows that have the same user_id and book_id"
   ]
  },
  {
   "cell_type": "code",
   "execution_count": null,
   "metadata": {},
   "outputs": [],
   "source": [
    "if not rating_with_count[rating_with_count.duplicated(['user_id', 'title'])].empty:\n",
    "    initial_rows = rating_with_count.shape[0]\n",
    "    print('Initial dataframe shape {0}'.format(rating_with_count.shape))\n",
    "    rating_with_count = rating_with_count.drop_duplicates(['user_id', 'title'])\n",
    "    current_rows = rating_with_count.shape[0]\n",
    "    print('New dataframe shape {0}'.format(rating_with_count.shape))\n",
    "    print('Removed {0} rows'.format(initial_rows - current_rows))"
   ]
  },
  {
   "cell_type": "markdown",
   "metadata": {},
   "source": [
    "#### Pivoting: book title vs. user ID"
   ]
  },
  {
   "cell_type": "code",
   "execution_count": null,
   "metadata": {},
   "outputs": [],
   "source": [
    "# For memory limitations, select the first 1 million ratings only\n",
    "rating_with_count = rating_with_count[:1000000]\n",
    "rating_pivot = rating_with_count.pivot(index='title', columns='user_id', values='rating').fillna(0)\n",
    "rating_pivot.head()"
   ]
  },
  {
   "cell_type": "markdown",
   "metadata": {},
   "source": [
    "### Train kNN model\n",
    "#### Distance metric: Cosine similarity"
   ]
  },
  {
   "cell_type": "code",
   "execution_count": null,
   "metadata": {},
   "outputs": [],
   "source": [
    "rating_matrix = csr_matrix(rating_pivot.values)\n",
    "\n",
    "from sklearn.neighbors import NearestNeighbors\n",
    "\n",
    "model_knn = NearestNeighbors(metric='cosine', algorithm='brute')\n",
    "model_knn.fit(rating_matrix)"
   ]
  },
  {
   "cell_type": "markdown",
   "metadata": {},
   "source": [
    "### Get book recommendations!"
   ]
  },
  {
   "cell_type": "code",
   "execution_count": null,
   "metadata": {},
   "outputs": [],
   "source": [
    "def get_recommendations(book_title, topn=6):\n",
    "    book_index = list(rating_pivot.index).index(book_title)\n",
    "    distances, indices = model_knn.kneighbors(rating_pivot.iloc[book_index,:].values.reshape(1,-1), n_neighbors=topn)\n",
    "    print('Recommendations for {}:'.format(rating_pivot.index[book_index]))\n",
    "    for i in range(1, len(distances.flatten())):\n",
    "        print('{}. {}, distance = {}'.format(i, rating_pivot.index[indices.flatten()[i]], \"%.3f\"%distances.flatten()[i]))\n",
    "    print()\n",
    "    \n",
    "get_recommendations(\"Harry Potter and the Sorcerer's Stone (Harry Potter, #1)\")\n",
    "get_recommendations(\"Moby-Dick or, The Whale\")\n",
    "get_recommendations(\"Angels & Demons  (Robert Langdon, #1)\")\n",
    "get_recommendations(\"Charlie and the Chocolate Factory (Charlie Bucket, #1)\")"
   ]
  },
  {
   "cell_type": "markdown",
   "metadata": {},
   "source": [
    "##### Our model give relevant recommendations for books of different genres!"
   ]
  }
 ],
 "metadata": {
  "kernelspec": {
   "display_name": "Python 3",
   "language": "python",
   "name": "python3"
  },
  "language_info": {
   "codemirror_mode": {
    "name": "ipython",
    "version": 3
   },
   "file_extension": ".py",
   "mimetype": "text/x-python",
   "name": "python",
   "nbconvert_exporter": "python",
   "pygments_lexer": "ipython3",
   "version": "3.7.3"
  }
 },
 "nbformat": 4,
 "nbformat_minor": 2
}
